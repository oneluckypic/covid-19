{
 "cells": [
  {
   "cell_type": "code",
   "execution_count": null,
   "metadata": {},
   "outputs": [],
   "source": [
    "from celluloid import Camera\n",
    "from IPython.display import HTML\n",
    "import matplotlib\n",
    "import matplotlib.pyplot as plt\n",
    "from moviepy.editor import VideoFileClip\n",
    "import os\n",
    "import pandas as pd"
   ]
  },
  {
   "cell_type": "code",
   "execution_count": null,
   "metadata": {},
   "outputs": [],
   "source": [
    "df = pd.read_csv('5_Day_Mean_Incidence_Rate_Per_NY_Zip_Code.csv')\n",
    "df['Timestamp'] = pd.to_datetime(df['Timestamp'])\n",
    "df = df.sort_values(by='Timestamp')\n",
    "min_date = df['Timestamp'].min().date().strftime('%B %d')\n",
    "max_date = df['Timestamp'].max().date().strftime('%B %d %Y')"
   ]
  },
  {
   "cell_type": "code",
   "execution_count": null,
   "metadata": {},
   "outputs": [],
   "source": [
    "fig = plt.figure(figsize=(12,8))\n",
    "plt.xlim(0.0, 3.0)\n",
    "plt.ylim(0, 60)\n",
    "plt.xlabel('Incidence Rate', fontsize=20)\n",
    "plt.ylabel('Frequency',fontsize=20)\n",
    "plt.title('5 Day Mean Incidence Rate by NYC Zip Code\\n' + min_date + ' to ' + max_date, fontsize=20)\n",
    "\n",
    "camera = Camera(fig)\n",
    "ax = fig.add_subplot(111)\n",
    "\n",
    "for by, group in df.groupby(['Timestamp']):\n",
    "    group[['5 Day Mean Incidence Rate']].plot.hist(by='5 Day Mean Incidence Rate',\n",
    "                                                   ax=ax,\n",
    "                                                   color='blue')\n",
    "    ax.get_legend().remove()\n",
    "    camera.snap()\n",
    "animation = camera.animate(interval=2*200)\n",
    "HTML(animation.to_html5_video())\n",
    "\n",
    "#file_name = 'animation.mp4'\n",
    "#animation.save(file_name)\n",
    "\n",
    "#clip = VideoFileClip(file_name)\n",
    "#clip.write_gif(\"animation.gif\")\n",
    "#os.remove(file_name)"
   ]
  },
  {
   "cell_type": "code",
   "execution_count": null,
   "metadata": {},
   "outputs": [],
   "source": []
  }
 ],
 "metadata": {
  "file_extension": ".py",
  "kernelspec": {
   "display_name": "Python 3",
   "language": "python",
   "name": "python3"
  },
  "language_info": {
   "codemirror_mode": {
    "name": "ipython",
    "version": 3
   },
   "file_extension": ".py",
   "mimetype": "text/x-python",
   "name": "python",
   "nbconvert_exporter": "python",
   "pygments_lexer": "ipython3",
   "version": "3.8.2"
  },
  "mimetype": "text/x-python",
  "name": "python",
  "npconvert_exporter": "python",
  "pygments_lexer": "ipython3",
  "version": 3
 },
 "nbformat": 4,
 "nbformat_minor": 4
}
