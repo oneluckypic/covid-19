{
 "cells": [
  {
   "cell_type": "code",
   "execution_count": null,
   "metadata": {},
   "outputs": [],
   "source": [
    "import pandas as pd\n",
    "import matplotlib\n",
    "import matplotlib.pyplot as plt"
   ]
  },
  {
   "cell_type": "code",
   "execution_count": null,
   "metadata": {},
   "outputs": [],
   "source": [
    "tests_by_zip = pd.read_csv('data/accum-nychealth-tests-by-zcta.csv')\n",
    "tests_by_zip = tests_by_zip.dropna()\n",
    "tests_by_zip['ZipCode'] = tests_by_zip['MODZCTA'].astype('int')"
   ]
  },
  {
   "cell_type": "code",
   "execution_count": null,
   "metadata": {},
   "outputs": [],
   "source": [
    "ny_zips = pd.read_csv('data/NY_Census_Zip.csv')\n",
    "ny_zips['ZipCode'] = ny_zips['NAME'].replace(to_replace=r'ZCTA5 (\\d+), New York', value=r'\\1', regex=True)\n",
    "ny_zips = ny_zips[ny_zips['ZipCode'].apply(lambda x: x.isnumeric())]\n",
    "ny_zips['ZipCode'] = ny_zips['ZipCode'].astype('int')"
   ]
  },
  {
   "cell_type": "code",
   "execution_count": null,
   "metadata": {
    "tags": [
     "outputPrepend",
     "outputPrepend",
     "outputPrepend",
     "outputPrepend",
     "outputPrepend",
     "outputPrepend",
     "outputPrepend",
     "outputPrepend",
     "outputPrepend",
     "outputPrepend",
     "outputPrepend",
     "outputPrepend",
     "outputPrepend",
     "outputPrepend",
     "outputPrepend",
     "outputPrepend",
     "outputPrepend",
     "outputPrepend",
     "outputPrepend",
     "outputPrepend",
     "outputPrepend",
     "outputPrepend",
     "outputPrepend",
     "outputPrepend",
     "outputPrepend",
     "outputPrepend",
     "outputPrepend"
    ]
   },
   "outputs": [],
   "source": [
    "days = 5\n",
    "df = tests_by_zip.merge(ny_zips, on='ZipCode')\n",
    "df = df[['GEO_ID', 'ZipCode', 'P001001', 'Total', 'Positive', 'Timestamp']]\n",
    "df.columns = ['GEO ID', 'Zip Code', 'Population', 'Total Tests', 'Positive CVD', 'Timestamp']\n",
    "\n",
    "df['Timestamp'] = pd.to_datetime(df['Timestamp'])\n",
    "\n",
    "df['Population'] = df['Population'].astype('int')\n",
    "df['Incidence Rate'] = df['Positive CVD'] / df['Population'] * 100\n",
    "\n",
    "new_df = pd.DataFrame()\n",
    "for by, group in df.groupby(['Zip Code']):\n",
    "    if 11697 == by:\n",
    "        # Remove duplicate data for zip code 11697.\n",
    "        duplicate_key = (group['Timestamp'] == '2020-04-10 17:41:39') & (group['Total Tests'] == 105)\n",
    "        group = group[~duplicate_key]\n",
    "    group = group.set_index('Timestamp', verify_integrity=True)\n",
    "    group = group.sort_values(by='Timestamp')\n",
    "    group.loc[:, str(days) + ' Day Mean Incidence Rate'] = group['Incidence Rate'].rolling(str(days) + 'd').mean()\n",
    "    new_df = pd.concat([new_df, group])\n",
    "df = new_df"
   ]
  },
  {
   "cell_type": "code",
   "execution_count": null,
   "metadata": {
    "tags": [
     "outputPrepend",
     "outputPrepend",
     "outputPrepend",
     "outputPrepend",
     "outputPrepend",
     "outputPrepend",
     "outputPrepend",
     "outputPrepend",
     "outputPrepend",
     "outputPrepend",
     "outputPrepend",
     "outputPrepend",
     "outputPrepend",
     "outputPrepend",
     "outputPrepend",
     "outputPrepend",
     "outputPrepend",
     "outputPrepend",
     "outputPrepend",
     "outputPrepend",
     "outputPrepend",
     "outputPrepend",
     "outputPrepend",
     "outputPrepend",
     "outputPrepend",
     "outputPrepend",
     "outputPrepend"
    ]
   },
   "outputs": [],
   "source": [
    "demographic_df = pd.read_csv('data/Demographic_Statistics_By_Zip_Code.csv')\n",
    "demographic_df['JURISDICTION NAME'].unique()\n",
    "demographic_df = demographic_df.rename(columns={'JURISDICTION NAME': 'Zip Code'})\n",
    "demographic_df['Zip Code'] = demographic_df['Zip Code'].astype('int')\n",
    "\n",
    "df = df.merge(demographic_df, on='Zip Code')"
   ]
  },
  {
   "cell_type": "code",
   "execution_count": null,
   "metadata": {
    "tags": [
     "outputPrepend",
     "outputPrepend",
     "outputPrepend",
     "outputPrepend",
     "outputPrepend",
     "outputPrepend",
     "outputPrepend",
     "outputPrepend",
     "outputPrepend",
     "outputPrepend",
     "outputPrepend",
     "outputPrepend",
     "outputPrepend",
     "outputPrepend",
     "outputPrepend",
     "outputPrepend",
     "outputPrepend",
     "outputPrepend",
     "outputPrepend",
     "outputPrepend",
     "outputPrepend",
     "outputPrepend",
     "outputPrepend",
     "outputPrepend",
     "outputPrepend",
     "outputPrepend",
     "outputPrepend"
    ]
   },
   "outputs": [],
   "source": [
    "df.to_csv('5_Day_Mean_Incidence_Rate_Per_NY_Zip_Code.csv')"
   ]
  },
  {
   "cell_type": "code",
   "execution_count": null,
   "metadata": {},
   "outputs": [],
   "source": [
    "df.columns"
   ]
  },
  {
   "cell_type": "code",
   "execution_count": null,
   "metadata": {},
   "outputs": [],
   "source": []
  }
 ],
 "metadata": {
  "kernelspec": {
   "display_name": "Python 3",
   "language": "python",
   "name": "python3"
  },
  "language_info": {
   "codemirror_mode": {
    "name": "ipython",
    "version": 3
   },
   "file_extension": ".py",
   "mimetype": "text/x-python",
   "name": "python",
   "nbconvert_exporter": "python",
   "pygments_lexer": "ipython3",
   "version": "3.7.6"
  }
 },
 "nbformat": 4,
 "nbformat_minor": 4
}
