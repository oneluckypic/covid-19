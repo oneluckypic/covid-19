{
 "cells": [
  {
   "cell_type": "code",
   "execution_count": null,
   "metadata": {},
   "outputs": [],
   "source": [
    "import pandas as pd\n",
    "import matplotlib.pyplot as plt"
   ]
  },
  {
   "cell_type": "code",
   "execution_count": null,
   "metadata": {},
   "outputs": [],
   "source": [
    "# John Hopkins University Country Data\n",
    "jhu_csv = 'data/COVID-19/csse_covid_19_data/csse_covid_19_time_series/time_series_covid19_%s_global.csv'\n",
    "# New York Times State/County Data\n",
    "nyt_csv = 'data/covid-19-data/us-%s.csv'\n",
    "\n",
    "data = pd.read_csv(nyt_csv % 'states')\n",
    "\n",
    "grouped = data.groupby(['state'])\n",
    "\n",
    "fig, ax = plt.subplots(figsize=(15,7))\n",
    "\n",
    "for state, item in grouped:\n",
    "    if state not in ['Washington', 'Florida', 'New York']:\n",
    "        continue\n",
    "    df = item.copy()\n",
    "    df.loc[:, 'cases_delta'] = df['cases'].diff(1)\n",
    "    df.loc[:, 'rolling_cases'] = df.cases.rolling(7).mean()\n",
    "    df.loc[:, 'rolling_cases_delta'] = df.cases_delta.rolling(7).mean()\n",
    "    df.plot(ax=ax, label=state, x='rolling_cases', y='rolling_cases_delta', logx=True, logy=True)\n",
    "    plt.text(df.rolling_cases.max(), df.rolling_cases_delta.max(), state)\n",
    "    \n",
    "\n",
    "ax.set_xlabel('Log of Total Cases')\n",
    "ax.set_ylabel('Log of New Cases')"
   ]
  },
  {
   "cell_type": "code",
   "execution_count": null,
   "metadata": {},
   "outputs": [],
   "source": []
  }
 ],
 "metadata": {
  "kernelspec": {
   "display_name": "Python 3",
   "language": "python",
   "name": "python3"
  },
  "language_info": {
   "codemirror_mode": {
    "name": "ipython",
    "version": 3
   },
   "file_extension": ".py",
   "mimetype": "text/x-python",
   "name": "python",
   "nbconvert_exporter": "python",
   "pygments_lexer": "ipython3",
   "version": "3.8.2"
  }
 },
 "nbformat": 4,
 "nbformat_minor": 4
}
