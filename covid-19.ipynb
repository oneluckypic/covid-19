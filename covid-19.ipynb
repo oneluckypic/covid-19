{
 "cells": [
  {
   "cell_type": "code",
   "execution_count": null,
   "metadata": {},
   "outputs": [],
   "source": [
    "import pandas as pd\n",
    "import matplotlib\n",
    "import matplotlib.pyplot as plt\n",
    "from matplotlib.animation import FuncAnimation"
   ]
  },
  {
   "cell_type": "code",
   "execution_count": null,
   "metadata": {},
   "outputs": [],
   "source": [
    "# New York Times State/County Data\n",
    "nyt_csv = 'data/covid-19-data/us-%s.csv'\n",
    "\n",
    "data = pd.read_csv(nyt_csv % 'states')\n",
    "\n",
    "plot_new_cases_vs_total_cases(data, fig_size=(14, 10), rolling_days=5,\n",
    "                              groupby_filter=['Washington', 'New York', 'California', 'Florida'])"
   ]
  },
  {
   "cell_type": "code",
   "execution_count": null,
   "metadata": {},
   "outputs": [],
   "source": [
    "# John Hopkins University Country Data\n",
    "jhu_csv = 'data/COVID-19/csse_covid_19_data/csse_covid_19_time_series/time_series_covid19_%s_global.csv'"
   ]
  },
  {
   "cell_type": "code",
   "execution_count": null,
   "metadata": {},
   "outputs": [],
   "source": [
    "import pandas as pd\n",
    "import requests\n",
    "\n",
    "\n",
    "def request_json_as_df(url):\n",
    "    response = requests.get(url)\n",
    "    response.raise_for_status()\n",
    "    return pd.read_json(response.text)\n",
    "\n",
    "\n",
    "def apply_settings(title, ax, font_size=20, disable_legend=True):\n",
    "    font = {'fontsize': font_size}\n",
    "    plt.title(title, **font)\n",
    "    plt.legend(prop={'size': font_size})\n",
    "    for item in ([ax.title, ax.xaxis.label, ax.yaxis.label] +\n",
    "                  ax.get_xticklabels() + ax.get_yticklabels()):\n",
    "        item.set_fontsize(font_size)\n",
    "    if disable_legend:\n",
    "        ax.get_legend().remove()\n",
    "\n",
    "\n",
    "def plot_new_cases_vs_total_cases(data,\n",
    "                                  groupby_column='state',\n",
    "                                  cases_label='cases',\n",
    "                                  groupby_filter=[],\n",
    "                                  fig_size=(10, 8),\n",
    "                                  logx=True,\n",
    "                                  logy=True,\n",
    "                                  rolling_days=3):\n",
    "    \n",
    "    grouped = data.groupby([groupby_column])\n",
    "\n",
    "    fig, ax = plt.subplots(figsize=fig_size)\n",
    "\n",
    "    for label, item in grouped:\n",
    "        if groupby_filter and label not in groupby_filter:\n",
    "            continue\n",
    "        df = item.copy()\n",
    "        df.loc[:, 'cases_delta'] = df[cases_label].diff(1)\n",
    "        df.loc[:, 'rolling_cases'] = df[cases_label].rolling(rolling_days).sum()\n",
    "        df.loc[:, 'rolling_cases_delta'] = df.cases_delta.rolling(rolling_days).sum()\n",
    "        df.plot(ax=ax, label=label, x='rolling_cases', y='rolling_cases_delta', logx=logx, logy=logy)\n",
    "        plt.text(df.rolling_cases.max(), df.rolling_cases_delta.max(), label)\n",
    "\n",
    "    xlabel = 'Total Cases'\n",
    "    xlabel = 'Log of ' + xlabel if logx else xlabel\n",
    "    ax.set_xlabel(xlabel)\n",
    "    ylabel = 'Total Cases'\n",
    "    ylabel = 'Log of ' + ylabel if logy else ylabel\n",
    "    ax.set_ylabel(ylabel)\n",
    "    apply_settings('New Cases vs Total Cases', ax)\n"
   ]
  },
  {
   "cell_type": "code",
   "execution_count": null,
   "metadata": {},
   "outputs": [],
   "source": [
    "tests_by_zip = pd.read_csv('data/nychealth/coronavirus-data/tests-by-zcta.csv')\n",
    "ny_zips=pd.read_csv('data/NY_Census_Zip.csv')\n"
   ]
  },
  {
   "cell_type": "code",
   "execution_count": null,
   "metadata": {},
   "outputs": [],
   "source": [
    "tests_by_zip=tests_by_zip.dropna()\n",
    "tests_by_zip['ZipCode']=tests_by_zip['MODZCTA'].astype('int')\n",
    "tests_by_zip"
   ]
  },
  {
   "cell_type": "code",
   "execution_count": null,
   "metadata": {},
   "outputs": [],
   "source": [
    "ny_zips['ZipCode']=ny_zips['NAME'].replace(to_replace=r'ZCTA5 (\\d+), New York', value=r'\\1', regex=True)"
   ]
  },
  {
   "cell_type": "code",
   "execution_count": null,
   "metadata": {},
   "outputs": [],
   "source": [
    "ny_zips.sort_values(by=['ZipCode'])"
   ]
  },
  {
   "cell_type": "code",
   "execution_count": null,
   "metadata": {},
   "outputs": [],
   "source": [
    "df=tests_by_zip.join(ny_zips, on='ZipCode', how='left', lsuffix='_left', rsuffix='_right')\n",
    "df\n"
   ]
  },
  {
   "cell_type": "code",
   "execution_count": null,
   "metadata": {},
   "outputs": [],
   "source": []
  }
 ],
 "metadata": {
  "kernelspec": {
   "display_name": "Python 3",
   "language": "python",
   "name": "python3"
  },
  "language_info": {
   "codemirror_mode": {
    "name": "ipython",
    "version": 3
   },
   "file_extension": ".py",
   "mimetype": "text/x-python",
   "name": "python",
   "nbconvert_exporter": "python",
   "pygments_lexer": "ipython3",
   "version": "3.7.6"
  }
 },
 "nbformat": 4,
 "nbformat_minor": 4
}
